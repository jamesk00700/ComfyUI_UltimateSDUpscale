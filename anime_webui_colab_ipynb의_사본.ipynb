{
  "cells": [
    {
      "cell_type": "markdown",
      "metadata": {
        "id": "view-in-github",
        "colab_type": "text"
      },
      "source": [
        "<a href=\"https://colab.research.google.com/github/jamesk00700/ComfyUI_UltimateSDUpscale/blob/main/anime_webui_colab_ipynb%EC%9D%98_%EC%82%AC%EB%B3%B8.ipynb\" target=\"_parent\"><img src=\"https://colab.research.google.com/assets/colab-badge.svg\" alt=\"Open In Colab\"/></a>"
      ]
    },
    {
      "cell_type": "code",
      "execution_count": null,
      "metadata": {
        "id": "oAIsrU-_fnFJ"
      },
      "outputs": [],
      "source": [
        "#@markdown ## 구글드라이브 연동\n",
        "#@markdown **생성한 이미지를 구글드라이브에 자동저장하려면 체크해주세요**\n",
        "Google_Drive = True #@param {type:\"boolean\"}\n",
        "\n",
        "#@markdown **Lightning 8 Step (기본 4 step)**\n",
        "Lightning8Step = True #@param {type:\"boolean\"}\n",
        "\n",
        "#@markdown **한글 번역**\n",
        "Ko_Language = True #@param {type:\"boolean\"}\n",
        "\n",
        "#@markdown -----\n",
        "#@markdown **구글드라이브 연동폴더**\n",
        "#@markdown * fooocus/outputs : 생성된 이미지들이 저장되요\n",
        "#@markdown * fooocus/loras : 로라(LoRA)를 넣어주면 읽어올수 있어요\n",
        "#@markdown * fooocus/embeddings : 임베딩(Textual Inversion)를 넣어주면 읽어올수 있어요\n",
        "\n",
        "#@markdown **<font color=blue>체크포인트 URL을 입력하면 입력한 체크포인트로 자동 변경해서 다운받아요</font>**\n",
        "\n",
        "#@markdown **체크포인트 URL**\n",
        "Checkpoint_Url = '' #@param {type:\"string\"}\n",
        "#@markdown **체크포인트 파일명**\n",
        "Checkpoint_Filename = '' #@param {type:\"string\"}\n",
        "\n",
        "Preset = 'anime'\n",
        "NoteBookName = 'anime_webui_colab'\n",
        "\n",
        "Workspace = 'fooocus'\n",
        "GoogleHomePath = f'/content/drive/MyDrive/{Workspace}'\n",
        "HomePath = '/content/Fooocus'\n",
        "\n",
        "PRESET_PARAM = \"\"\n",
        "LANGUAGE_PARAM = \"\"\n",
        "\n",
        "import os\n",
        "\n",
        "if not Checkpoint_Filename:\n",
        "  if Checkpoint_Url:\n",
        "    Checkpoint_Filename = \"checkpoint.safetensors\"\n",
        "\n",
        "if Google_Drive:\n",
        "  from google.colab import drive\n",
        "  drive.mount('/content/drive')\n",
        "\n",
        "!pip install pygit2==1.12.2\n",
        "%cd /content\n",
        "!git clone https://github.com/lllyasviel/Fooocus.git {HomePath}\n",
        "\n",
        "if Lightning8Step:\n",
        "  !sed -i -e \"s/LIGHTNING = 4/LIGHTNING = 8/\" {HomePath}/modules/flags.py\n",
        "  !sed -i -e \"s/sdxl_lightning_4step_lora/sdxl_lightning_8step_lora/\" {HomePath}/modules/config.py\n",
        "\n",
        "if Google_Drive:\n",
        "  !mkdir {GoogleHomePath}\n",
        "  !mkdir {GoogleHomePath}/loras\n",
        "  !mkdir {GoogleHomePath}/upscale_models\n",
        "  !mkdir {GoogleHomePath}/embeddings\n",
        "  !mkdir {GoogleHomePath}/outputs\n",
        "  !wget https://raw.githubusercontent.com/ninjaneural/fooocus/master/misc/config.txt -O {HomePath}/config.txt\n",
        "\n",
        "if Ko_Language:\n",
        "  !wget https://raw.githubusercontent.com/ninjaneural/fooocus/master/misc/ko.json -O {HomePath}/language/ko.json\n",
        "  LANGUAGE_PARAM = '--language ko'\n",
        "\n",
        "if Preset:\n",
        "  if Checkpoint_Url:\n",
        "    PRESET_PARAM = f'--preset colab'\n",
        "    !wget https://raw.githubusercontent.com/ninjaneural/fooocus/master/misc/{Preset}.json -O {HomePath}/presets/colab.json\n",
        "    with open(f'{HomePath}/presets/colab.json', 'r') as file:\n",
        "        config_data = file.read()\n",
        "\n",
        "    replaced_config_data = config_data\n",
        "    replaced_config_data = replaced_config_data.replace('#Checkpoint_Url#', Checkpoint_Url)\n",
        "    replaced_config_data = replaced_config_data.replace('#Checkpoint_Filename#', Checkpoint_Filename)\n",
        "\n",
        "    with open(f'{HomePath}/presets/colab.json', 'w') as file:\n",
        "        file.write(replaced_config_data)\n",
        "\n",
        "  else:\n",
        "    PRESET_PARAM = f'--preset {Preset}'\n",
        "else:\n",
        "  PRESET_PARAM = f'--preset colab'\n",
        "  !wget https://raw.githubusercontent.com/ninjaneural/fooocus/master/misc/presets/{NoteBookName}.json -O {HomePath}/presets/colab.json\n",
        "\n",
        "\n",
        "%cd {HomePath}\n",
        "!python entry_with_update.py --share {LANGUAGE_PARAM} {PRESET_PARAM} --port 18888\n",
        "\n"
      ]
    },
    {
      "cell_type": "code",
      "source": [],
      "metadata": {
        "id": "U4zIrRFOIVQW"
      },
      "execution_count": null,
      "outputs": []
    }
  ],
  "metadata": {
    "accelerator": "GPU",
    "colab": {
      "private_outputs": true,
      "provenance": [],
      "gpuType": "T4",
      "include_colab_link": true
    },
    "kernelspec": {
      "display_name": "Python 3",
      "name": "python3"
    },
    "language_info": {
      "name": "python",
      "version": "3.10.11"
    },
    "vscode": {
      "interpreter": {
        "hash": "32c23ec9c124fdbef417fa7c12f036622d7e14abb755fc2527a38410604ea1a4"
      }
    }
  },
  "nbformat": 4,
  "nbformat_minor": 0
}